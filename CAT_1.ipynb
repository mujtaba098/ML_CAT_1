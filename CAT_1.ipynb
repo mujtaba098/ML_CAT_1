{
  "nbformat": 4,
  "nbformat_minor": 0,
  "metadata": {
    "colab": {
      "name": "CAT 1",
      "provenance": [],
      "collapsed_sections": [],
      "include_colab_link": true
    },
    "kernelspec": {
      "name": "python3",
      "display_name": "Python 3"
    }
  },
  "cells": [
    {
      "cell_type": "markdown",
      "metadata": {
        "id": "view-in-github",
        "colab_type": "text"
      },
      "source": [
        "<a href=\"https://colab.research.google.com/github/mujtaba098/ML_CAT_1/blob/master/CAT_1.ipynb\" target=\"_parent\"><img src=\"https://colab.research.google.com/assets/colab-badge.svg\" alt=\"Open In Colab\"/></a>"
      ]
    },
    {
      "cell_type": "markdown",
      "metadata": {
        "id": "_rrEwNZ9ixdX",
        "colab_type": "text"
      },
      "source": [
        "Write a comprehensive Notebook i.e. both code and notes demonstrating:\n",
        "\n",
        "i. Data preprocessing: Filling Missing values (Justify your group strategy on this),\n",
        "Encoding, Feature Selection, Feature Extraction (Truncated SVD or PCA 90% and\n",
        "above variance) (20 marks)\n",
        "\n",
        "ii. Data Distributions Examination: Using Seaborn Library do a pair plot of all\n",
        "attributes to the target and describe the distributions (2 marks)\n",
        "\n",
        "iii. Model Selection: This is a Regression problem aimed at building a model to\n",
        "predict House Prices in California State, demonstrate model selection amongst\n",
        "many of the Regression models (10 marks)\n",
        "\n",
        "iv. Hyperparameter Tuning (Randomized): Demonstrate Tuning of hyperparameters\n",
        "in the models above with Data Splitting (5 marks)\n",
        "\n",
        "v. Cross Validation: Demonstrate K-Fold Cross Validation. What happens to accuracy\n",
        "when you increase value of K? Explain this effect. (5 marks)"
      ]
    },
    {
      "cell_type": "code",
      "metadata": {
        "id": "QwWvZTTgiGkC",
        "colab_type": "code",
        "colab": {}
      },
      "source": [
        "import numpy as np\n",
        "import pandas as pd\n",
        "import seaborn as sns\n",
        "import pandas.util.testing as tm\n",
        "from sklearn import svm\n",
        "from sklearn.decomposition import PCA\n",
        "from sklearn.datasets import fetch_california_housing\n",
        "from sklearn.preprocessing import LabelEncoder\n",
        "from sklearn.linear_model import LassoCV\n",
        "from sklearn import linear_model\n",
        "from sklearn.preprocessing import StandardScaler\n",
        "import matplotlib.pyplot as plt\n",
        "from sklearn.model_selection import train_test_split\n",
        "from sklearn.model_selection import KFold\n",
        "from sklearn.svm import SVR\n",
        "from sklearn.model_selection import cross_val_score\n"
      ],
      "execution_count": null,
      "outputs": []
    },
    {
      "cell_type": "markdown",
      "metadata": {
        "id": "wA7RxzO9oek-",
        "colab_type": "text"
      },
      "source": [
        "**i) Data Preprocessing**"
      ]
    },
    {
      "cell_type": "code",
      "metadata": {
        "id": "r_wZAWP4nPj6",
        "colab_type": "code",
        "colab": {}
      },
      "source": [
        "#loading the data\n",
        "data = fetch_california_housing()\n",
        "new_data = pd.DataFrame(data.data, columns=data.feature_names)\n",
        "#information about the dataset\n",
        "print(data['DESCR'])\n",
        "data"
      ],
      "execution_count": null,
      "outputs": []
    },
    {
      "cell_type": "markdown",
      "metadata": {
        "id": "xFmVpdsLC8iB",
        "colab_type": "text"
      },
      "source": [
        "**v. cross validation** K-fold"
      ]
    },
    {
      "cell_type": "code",
      "metadata": {
        "id": "BJxX8zbPC_3E",
        "colab_type": "code",
        "colab": {
          "base_uri": "https://localhost:8080/",
          "height": 88
        },
        "outputId": "c1c608e8-7d8f-4c4a-819f-9dba83b40e51"
      },
      "source": [
        "K = 4\n",
        "kf = KFold(n_splits = K, shuffle = True)\n",
        "for train, test in kf.split(data):\n",
        "  print (\"%s %s\" % (train, test))"
      ],
      "execution_count": null,
      "outputs": [
        {
          "output_type": "stream",
          "text": [
            "[0 1 2] [3]\n",
            "[0 2 3] [1]\n",
            "[0 1 3] [2]\n",
            "[1 2 3] [0]\n"
          ],
          "name": "stdout"
        }
      ]
    },
    {
      "cell_type": "markdown",
      "metadata": {
        "id": "cJ53SNrbDlGP",
        "colab_type": "text"
      },
      "source": [
        "Increasing the value of K reduces the accuracy"
      ]
    },
    {
      "cell_type": "code",
      "metadata": {
        "id": "l75Yx2xHplZU",
        "colab_type": "code",
        "colab": {
          "base_uri": "https://localhost:8080/",
          "height": 194
        },
        "outputId": "d5f03543-8534-470d-e586-d6ad3d0c7655"
      },
      "source": [
        "df.head()\n"
      ],
      "execution_count": null,
      "outputs": [
        {
          "output_type": "execute_result",
          "data": {
            "text/html": [
              "<div>\n",
              "<style scoped>\n",
              "    .dataframe tbody tr th:only-of-type {\n",
              "        vertical-align: middle;\n",
              "    }\n",
              "\n",
              "    .dataframe tbody tr th {\n",
              "        vertical-align: top;\n",
              "    }\n",
              "\n",
              "    .dataframe thead th {\n",
              "        text-align: right;\n",
              "    }\n",
              "</style>\n",
              "<table border=\"1\" class=\"dataframe\">\n",
              "  <thead>\n",
              "    <tr style=\"text-align: right;\">\n",
              "      <th></th>\n",
              "      <th>MedInc</th>\n",
              "      <th>HouseAge</th>\n",
              "      <th>AveRooms</th>\n",
              "      <th>AveBedrms</th>\n",
              "      <th>Population</th>\n",
              "      <th>AveOccup</th>\n",
              "      <th>Latitude</th>\n",
              "      <th>Longitude</th>\n",
              "    </tr>\n",
              "  </thead>\n",
              "  <tbody>\n",
              "    <tr>\n",
              "      <th>0</th>\n",
              "      <td>8.3252</td>\n",
              "      <td>41.0</td>\n",
              "      <td>6.984127</td>\n",
              "      <td>1.023810</td>\n",
              "      <td>322.0</td>\n",
              "      <td>2.555556</td>\n",
              "      <td>37.88</td>\n",
              "      <td>-122.23</td>\n",
              "    </tr>\n",
              "    <tr>\n",
              "      <th>1</th>\n",
              "      <td>8.3014</td>\n",
              "      <td>21.0</td>\n",
              "      <td>6.238137</td>\n",
              "      <td>0.971880</td>\n",
              "      <td>2401.0</td>\n",
              "      <td>2.109842</td>\n",
              "      <td>37.86</td>\n",
              "      <td>-122.22</td>\n",
              "    </tr>\n",
              "    <tr>\n",
              "      <th>2</th>\n",
              "      <td>7.2574</td>\n",
              "      <td>52.0</td>\n",
              "      <td>8.288136</td>\n",
              "      <td>1.073446</td>\n",
              "      <td>496.0</td>\n",
              "      <td>2.802260</td>\n",
              "      <td>37.85</td>\n",
              "      <td>-122.24</td>\n",
              "    </tr>\n",
              "    <tr>\n",
              "      <th>3</th>\n",
              "      <td>5.6431</td>\n",
              "      <td>52.0</td>\n",
              "      <td>5.817352</td>\n",
              "      <td>1.073059</td>\n",
              "      <td>558.0</td>\n",
              "      <td>2.547945</td>\n",
              "      <td>37.85</td>\n",
              "      <td>-122.25</td>\n",
              "    </tr>\n",
              "    <tr>\n",
              "      <th>4</th>\n",
              "      <td>3.8462</td>\n",
              "      <td>52.0</td>\n",
              "      <td>6.281853</td>\n",
              "      <td>1.081081</td>\n",
              "      <td>565.0</td>\n",
              "      <td>2.181467</td>\n",
              "      <td>37.85</td>\n",
              "      <td>-122.25</td>\n",
              "    </tr>\n",
              "  </tbody>\n",
              "</table>\n",
              "</div>"
            ],
            "text/plain": [
              "   MedInc  HouseAge  AveRooms  ...  AveOccup  Latitude  Longitude\n",
              "0  8.3252      41.0  6.984127  ...  2.555556     37.88    -122.23\n",
              "1  8.3014      21.0  6.238137  ...  2.109842     37.86    -122.22\n",
              "2  7.2574      52.0  8.288136  ...  2.802260     37.85    -122.24\n",
              "3  5.6431      52.0  5.817352  ...  2.547945     37.85    -122.25\n",
              "4  3.8462      52.0  6.281853  ...  2.181467     37.85    -122.25\n",
              "\n",
              "[5 rows x 8 columns]"
            ]
          },
          "metadata": {
            "tags": []
          },
          "execution_count": 32
        }
      ]
    },
    {
      "cell_type": "code",
      "metadata": {
        "id": "71aymI8KrLYq",
        "colab_type": "code",
        "colab": {
          "base_uri": "https://localhost:8080/",
          "height": 284
        },
        "outputId": "99fdee4c-b6b9-4b1e-bcf4-4a070971ace3"
      },
      "source": [
        "df.info()"
      ],
      "execution_count": null,
      "outputs": [
        {
          "output_type": "stream",
          "text": [
            "<class 'pandas.core.frame.DataFrame'>\n",
            "RangeIndex: 20640 entries, 0 to 20639\n",
            "Data columns (total 8 columns):\n",
            " #   Column      Non-Null Count  Dtype  \n",
            "---  ------      --------------  -----  \n",
            " 0   MedInc      20640 non-null  float64\n",
            " 1   HouseAge    20640 non-null  float64\n",
            " 2   AveRooms    20640 non-null  float64\n",
            " 3   AveBedrms   20640 non-null  float64\n",
            " 4   Population  20640 non-null  float64\n",
            " 5   AveOccup    20640 non-null  float64\n",
            " 6   Latitude    20640 non-null  float64\n",
            " 7   Longitude   20640 non-null  float64\n",
            "dtypes: float64(8)\n",
            "memory usage: 1.3 MB\n"
          ],
          "name": "stdout"
        }
      ]
    },
    {
      "cell_type": "markdown",
      "metadata": {
        "id": "tzS8Mp0XuOMQ",
        "colab_type": "text"
      },
      "source": [
        "Each column has 20640/20640 values, thus suggesting the absence of null values\n"
      ]
    },
    {
      "cell_type": "markdown",
      "metadata": {
        "id": "FcVnxoNcs_T5",
        "colab_type": "text"
      },
      "source": [
        "In the case of missing values, we mark missing values as NaN.\n",
        "\n",
        "Values with a NaN value are ignored from operations like sum, count, etc.\n",
        "\n",
        "We can mark values as NaN easily with the Pandas DataFrame by using the replace() function on a subset of the columns we are interested in.\n"
      ]
    },
    {
      "cell_type": "markdown",
      "metadata": {
        "id": "fqDWpT4Z1uVy",
        "colab_type": "text"
      },
      "source": [
        "No encoding because the dataset consists of floats"
      ]
    },
    {
      "cell_type": "markdown",
      "metadata": {
        "id": "wwdtGyN01one",
        "colab_type": "text"
      },
      "source": [
        "**Feature Selection**"
      ]
    },
    {
      "cell_type": "code",
      "metadata": {
        "id": "9wsLaLJc1nTB",
        "colab_type": "code",
        "colab": {
          "base_uri": "https://localhost:8080/",
          "height": 399
        },
        "outputId": "afbb4366-7ab4-41bb-ea9f-4afcc6c3fbd9"
      },
      "source": [
        "column_names=data.feature_names\n",
        "target=data.target\n",
        "categorical_data=new_data\n",
        "numerical=['MedInc','HouseAge','AveRooms','AveBedrms','Population','AveOccup']\n",
        "\n",
        "for feature in column_names:\n",
        "  categorical_data[feature]=categorical_data[feature].astype('category')\n",
        "\n",
        "for feature in numerical:\n",
        "  categorical_data[feature]= categorical_data[feature].cat.codes\n",
        "\n",
        "categorical_data"
      ],
      "execution_count": null,
      "outputs": [
        {
          "output_type": "execute_result",
          "data": {
            "text/html": [
              "<div>\n",
              "<style scoped>\n",
              "    .dataframe tbody tr th:only-of-type {\n",
              "        vertical-align: middle;\n",
              "    }\n",
              "\n",
              "    .dataframe tbody tr th {\n",
              "        vertical-align: top;\n",
              "    }\n",
              "\n",
              "    .dataframe thead th {\n",
              "        text-align: right;\n",
              "    }\n",
              "</style>\n",
              "<table border=\"1\" class=\"dataframe\">\n",
              "  <thead>\n",
              "    <tr style=\"text-align: right;\">\n",
              "      <th></th>\n",
              "      <th>MedInc</th>\n",
              "      <th>HouseAge</th>\n",
              "      <th>AveRooms</th>\n",
              "      <th>AveBedrms</th>\n",
              "      <th>Population</th>\n",
              "      <th>AveOccup</th>\n",
              "      <th>Latitude</th>\n",
              "      <th>Longitude</th>\n",
              "    </tr>\n",
              "  </thead>\n",
              "  <tbody>\n",
              "    <tr>\n",
              "      <th>0</th>\n",
              "      <td>12416</td>\n",
              "      <td>40</td>\n",
              "      <td>17422</td>\n",
              "      <td>4683</td>\n",
              "      <td>296</td>\n",
              "      <td>6200</td>\n",
              "      <td>37.88</td>\n",
              "      <td>-122.23</td>\n",
              "    </tr>\n",
              "    <tr>\n",
              "      <th>1</th>\n",
              "      <td>12411</td>\n",
              "      <td>20</td>\n",
              "      <td>15292</td>\n",
              "      <td>1747</td>\n",
              "      <td>2346</td>\n",
              "      <td>2171</td>\n",
              "      <td>37.86</td>\n",
              "      <td>-122.22</td>\n",
              "    </tr>\n",
              "    <tr>\n",
              "      <th>2</th>\n",
              "      <td>11941</td>\n",
              "      <td>51</td>\n",
              "      <td>18851</td>\n",
              "      <td>8436</td>\n",
              "      <td>469</td>\n",
              "      <td>9150</td>\n",
              "      <td>37.85</td>\n",
              "      <td>-122.24</td>\n",
              "    </tr>\n",
              "    <tr>\n",
              "      <th>3</th>\n",
              "      <td>10269</td>\n",
              "      <td>51</td>\n",
              "      <td>13297</td>\n",
              "      <td>8416</td>\n",
              "      <td>531</td>\n",
              "      <td>6102</td>\n",
              "      <td>37.85</td>\n",
              "      <td>-122.25</td>\n",
              "    </tr>\n",
              "    <tr>\n",
              "      <th>4</th>\n",
              "      <td>6656</td>\n",
              "      <td>51</td>\n",
              "      <td>15461</td>\n",
              "      <td>8951</td>\n",
              "      <td>538</td>\n",
              "      <td>2620</td>\n",
              "      <td>37.85</td>\n",
              "      <td>-122.25</td>\n",
              "    </tr>\n",
              "    <tr>\n",
              "      <th>...</th>\n",
              "      <td>...</td>\n",
              "      <td>...</td>\n",
              "      <td>...</td>\n",
              "      <td>...</td>\n",
              "      <td>...</td>\n",
              "      <td>...</td>\n",
              "      <td>...</td>\n",
              "      <td>...</td>\n",
              "    </tr>\n",
              "    <tr>\n",
              "      <th>20635</th>\n",
              "      <td>740</td>\n",
              "      <td>24</td>\n",
              "      <td>8473</td>\n",
              "      <td>11414</td>\n",
              "      <td>818</td>\n",
              "      <td>6253</td>\n",
              "      <td>39.48</td>\n",
              "      <td>-121.09</td>\n",
              "    </tr>\n",
              "    <tr>\n",
              "      <th>20636</th>\n",
              "      <td>3179</td>\n",
              "      <td>17</td>\n",
              "      <td>14726</td>\n",
              "      <td>13437</td>\n",
              "      <td>330</td>\n",
              "      <td>12675</td>\n",
              "      <td>39.49</td>\n",
              "      <td>-121.21</td>\n",
              "    </tr>\n",
              "    <tr>\n",
              "      <th>20637</th>\n",
              "      <td>1037</td>\n",
              "      <td>16</td>\n",
              "      <td>9514</td>\n",
              "      <td>10951</td>\n",
              "      <td>980</td>\n",
              "      <td>3757</td>\n",
              "      <td>39.43</td>\n",
              "      <td>-121.22</td>\n",
              "    </tr>\n",
              "    <tr>\n",
              "      <th>20638</th>\n",
              "      <td>1405</td>\n",
              "      <td>17</td>\n",
              "      <td>10299</td>\n",
              "      <td>12362</td>\n",
              "      <td>714</td>\n",
              "      <td>2249</td>\n",
              "      <td>39.43</td>\n",
              "      <td>-121.32</td>\n",
              "    </tr>\n",
              "    <tr>\n",
              "      <th>20639</th>\n",
              "      <td>2752</td>\n",
              "      <td>15</td>\n",
              "      <td>9811</td>\n",
              "      <td>12160</td>\n",
              "      <td>1360</td>\n",
              "      <td>6924</td>\n",
              "      <td>39.37</td>\n",
              "      <td>-121.24</td>\n",
              "    </tr>\n",
              "  </tbody>\n",
              "</table>\n",
              "<p>20640 rows × 8 columns</p>\n",
              "</div>"
            ],
            "text/plain": [
              "       MedInc  HouseAge  AveRooms  ...  AveOccup  Latitude  Longitude\n",
              "0       12416        40     17422  ...      6200     37.88    -122.23\n",
              "1       12411        20     15292  ...      2171     37.86    -122.22\n",
              "2       11941        51     18851  ...      9150     37.85    -122.24\n",
              "3       10269        51     13297  ...      6102     37.85    -122.25\n",
              "4        6656        51     15461  ...      2620     37.85    -122.25\n",
              "...       ...       ...       ...  ...       ...       ...        ...\n",
              "20635     740        24      8473  ...      6253     39.48    -121.09\n",
              "20636    3179        17     14726  ...     12675     39.49    -121.21\n",
              "20637    1037        16      9514  ...      3757     39.43    -121.22\n",
              "20638    1405        17     10299  ...      2249     39.43    -121.32\n",
              "20639    2752        15      9811  ...      6924     39.37    -121.24\n",
              "\n",
              "[20640 rows x 8 columns]"
            ]
          },
          "metadata": {
            "tags": []
          },
          "execution_count": 34
        }
      ]
    },
    {
      "cell_type": "code",
      "metadata": {
        "id": "ijAg9W714O22",
        "colab_type": "code",
        "colab": {}
      },
      "source": [
        "categorical_data.drop('Latitude',axis=1,inplace=True)\n",
        "categorical_data.drop('Longitude',axis=1,inplace=True)"
      ],
      "execution_count": null,
      "outputs": []
    },
    {
      "cell_type": "markdown",
      "metadata": {
        "id": "2FZAB5Xm5nVz",
        "colab_type": "text"
      },
      "source": [
        "Combining the categorical data with target"
      ]
    },
    {
      "cell_type": "code",
      "metadata": {
        "id": "d8siyBDk5qrP",
        "colab_type": "code",
        "colab": {}
      },
      "source": [
        "data_copy=categorical_data.copy()\n",
        "\n",
        "#Generating dataframe from target array\n",
        "dataset = pd.DataFrame({'Target':data.target})\n",
        "dataset\n",
        "\n",
        "\n",
        "temp_data = pd.concat([data_copy,dataset],axis=1)\n",
        "temp_data"
      ],
      "execution_count": null,
      "outputs": []
    },
    {
      "cell_type": "markdown",
      "metadata": {
        "id": "88SWeT1Z6etm",
        "colab_type": "text"
      },
      "source": [
        "Slice our data"
      ]
    },
    {
      "cell_type": "code",
      "metadata": {
        "id": "iSd6iGM16gwN",
        "colab_type": "code",
        "colab": {
          "base_uri": "https://localhost:8080/",
          "height": 141
        },
        "outputId": "3fe91f6d-90af-49b4-97c6-b3923eb6dca2"
      },
      "source": [
        "all_features = list(data_copy.columns)\n",
        "X = data_copy.loc[:,all_features].values\n",
        "y = temp_data.loc[:,['Target']].values\n",
        "y"
      ],
      "execution_count": null,
      "outputs": [
        {
          "output_type": "execute_result",
          "data": {
            "text/plain": [
              "array([[4.526],\n",
              "       [3.585],\n",
              "       [3.521],\n",
              "       ...,\n",
              "       [0.923],\n",
              "       [0.847],\n",
              "       [0.894]])"
            ]
          },
          "metadata": {
            "tags": []
          },
          "execution_count": 39
        }
      ]
    },
    {
      "cell_type": "markdown",
      "metadata": {
        "id": "Gzcm0Rpz6tIE",
        "colab_type": "text"
      },
      "source": [
        "X is standardized"
      ]
    },
    {
      "cell_type": "code",
      "metadata": {
        "id": "-GbqtWPI6vAJ",
        "colab_type": "code",
        "colab": {}
      },
      "source": [
        "X = StandardScaler().fit_transform(X)\n",
        "X"
      ],
      "execution_count": null,
      "outputs": []
    },
    {
      "cell_type": "markdown",
      "metadata": {
        "id": "VB1YEQN97IBV",
        "colab_type": "text"
      },
      "source": [
        "Calculate Principal Components"
      ]
    },
    {
      "cell_type": "code",
      "metadata": {
        "id": "81trkevy7MX4",
        "colab_type": "code",
        "colab": {}
      },
      "source": [
        "#Principle components\n",
        "pca=PCA(n_components=5)\n",
        "pc_s=pca.fit_transform(X)\n",
        "#Returning Principle Components\n",
        "pca_data=pd.DataFrame(pc_s,columns=['PC1','PC2','PC3','PC4','PC5'])\n",
        "final_data = pd.concat([pca_data,dataset],axis=1)\n",
        "final_data"
      ],
      "execution_count": null,
      "outputs": []
    },
    {
      "cell_type": "markdown",
      "metadata": {
        "id": "WhleAoCF7eSb",
        "colab_type": "text"
      },
      "source": [
        "variance"
      ]
    },
    {
      "cell_type": "code",
      "metadata": {
        "id": "JxRWsMZO7fQV",
        "colab_type": "code",
        "colab": {}
      },
      "source": [
        "arr=pca.explained_variance_ratio_"
      ],
      "execution_count": null,
      "outputs": []
    },
    {
      "cell_type": "markdown",
      "metadata": {
        "id": "hf8-1t9c7oEd",
        "colab_type": "text"
      },
      "source": [
        "calculate the total variance"
      ]
    },
    {
      "cell_type": "code",
      "metadata": {
        "id": "JHHLLSwX7rVs",
        "colab_type": "code",
        "colab": {}
      },
      "source": [
        "sum =0\n",
        "for i in range(0, len(arr)):    \n",
        "   sum = sum + arr[i];\n",
        "Variance=sum*100\n",
        "\n",
        "\n",
        "print('PCA variance is '+str(Variance) +'%')"
      ],
      "execution_count": null,
      "outputs": []
    },
    {
      "cell_type": "markdown",
      "metadata": {
        "id": "4VkvwMEV8NxH",
        "colab_type": "text"
      },
      "source": [
        "**ii) Using Seaborn Library**\n",
        "to pair a plot of all the attributes to the Target"
      ]
    },
    {
      "cell_type": "markdown",
      "metadata": {
        "id": "AQTkG6sv8gWp",
        "colab_type": "text"
      },
      "source": [
        "Plot of median income and Target"
      ]
    },
    {
      "cell_type": "code",
      "metadata": {
        "id": "6saf_ar98lW_",
        "colab_type": "code",
        "colab": {}
      },
      "source": [
        "plot_data=pd.DataFrame(data.data, columns=data.feature_names)\n",
        "target_data=pd.DataFrame({'Target':data.target})\n",
        "data_MedInc=pd.concat([plot_data['MedInc'],target_data],axis=1)\n",
        "data_MedInc\n",
        "sns.pairplot(data_MedInc,kind='reg',diag_kind='kde')"
      ],
      "execution_count": null,
      "outputs": []
    },
    {
      "cell_type": "markdown",
      "metadata": {
        "id": "79_bq35x9SJe",
        "colab_type": "text"
      },
      "source": [
        "Plot of HouseAge and Target"
      ]
    },
    {
      "cell_type": "code",
      "metadata": {
        "id": "iJD3DtIj9Wut",
        "colab_type": "code",
        "colab": {}
      },
      "source": [
        "data_plot=pd.concat([plot_data['HouseAge'],target_data],axis=1)\n",
        "data_plot\n",
        "sns.pairplot(data_plot,kind='reg',diag_kind='kde')"
      ],
      "execution_count": null,
      "outputs": []
    },
    {
      "cell_type": "markdown",
      "metadata": {
        "id": "A3US8fMG9t9J",
        "colab_type": "text"
      },
      "source": [
        "Plot of Avg Rooms and Target"
      ]
    },
    {
      "cell_type": "code",
      "metadata": {
        "id": "5DiyGeJL9yDv",
        "colab_type": "code",
        "colab": {}
      },
      "source": [
        "data_plot=pd.concat([plot_data['AveRooms'],target_data],axis=1)\n",
        "data_plot\n",
        "sns.pairplot(data_plot,kind='reg',diag_kind='kde')"
      ],
      "execution_count": null,
      "outputs": []
    },
    {
      "cell_type": "markdown",
      "metadata": {
        "id": "6UtNbCjM-I_l",
        "colab_type": "text"
      },
      "source": [
        "Plot for Average Bedrooms and Target"
      ]
    },
    {
      "cell_type": "code",
      "metadata": {
        "id": "f4f3-jm1-MPV",
        "colab_type": "code",
        "colab": {}
      },
      "source": [
        "data_plot=pd.concat([plot_data['AveBedrms'],target_data],axis=1)\n",
        "data_plot\n",
        "sns.pairplot(data_plot,kind='reg',diag_kind='kde')"
      ],
      "execution_count": null,
      "outputs": []
    },
    {
      "cell_type": "markdown",
      "metadata": {
        "id": "UzD1z83h-TZm",
        "colab_type": "text"
      },
      "source": [
        "Plot of Population and Target"
      ]
    },
    {
      "cell_type": "code",
      "metadata": {
        "id": "cfaedMIV-WW0",
        "colab_type": "code",
        "colab": {}
      },
      "source": [
        "data_plot=pd.concat([plot_data['Population'],target_data],axis=1)\n",
        "data_plot\n",
        "sns.pairplot(data_plot,kind='reg',diag_kind='kde')"
      ],
      "execution_count": null,
      "outputs": []
    },
    {
      "cell_type": "markdown",
      "metadata": {
        "id": "yJd8oTEz-jU6",
        "colab_type": "text"
      },
      "source": [
        "Plot of Average Occupancy and Target"
      ]
    },
    {
      "cell_type": "code",
      "metadata": {
        "id": "vUOjxhHm-kih",
        "colab_type": "code",
        "colab": {}
      },
      "source": [
        "data_plot=pd.concat([plot_data['AveOccup'],target_data],axis=1)\n",
        "data_plot\n",
        "sns.pairplot(data_plot,kind='reg',diag_kind='kde')"
      ],
      "execution_count": null,
      "outputs": []
    },
    {
      "cell_type": "markdown",
      "metadata": {
        "id": "_WNa0uGY-xuT",
        "colab_type": "text"
      },
      "source": [
        "**iii) Model Selection and iv) Hyperparameter Tuning**"
      ]
    },
    {
      "cell_type": "markdown",
      "metadata": {
        "id": "6Vt12ouu_PJ0",
        "colab_type": "text"
      },
      "source": [
        "Linear regression will be used to predict the target value"
      ]
    },
    {
      "cell_type": "code",
      "metadata": {
        "id": "gSjh1zNh_TZW",
        "colab_type": "code",
        "colab": {}
      },
      "source": [
        "Usage of Multiple Linear Regression"
      ],
      "execution_count": null,
      "outputs": []
    },
    {
      "cell_type": "markdown",
      "metadata": {
        "id": "wvlfNyga_2lK",
        "colab_type": "text"
      },
      "source": [
        "**Data Splitting** X and y into training and testing sets using train_set_split from sklearn"
      ]
    },
    {
      "cell_type": "code",
      "metadata": {
        "id": "yk1hKEi3_-qi",
        "colab_type": "code",
        "colab": {}
      },
      "source": [
        "X_train, X_test, y_train, y_test = train_test_split(X, y.ravel(), test_size=0.33, random_state=0) "
      ],
      "execution_count": null,
      "outputs": []
    },
    {
      "cell_type": "markdown",
      "metadata": {
        "id": "_mFcNOclAc0x",
        "colab_type": "text"
      },
      "source": [
        "Use Linear Regression object from sklearn to Calculate"
      ]
    },
    {
      "cell_type": "code",
      "metadata": {
        "id": "vMHgyxJUAoz4",
        "colab_type": "code",
        "colab": {}
      },
      "source": [
        "reg = linear_model.LinearRegression()\n"
      ],
      "execution_count": null,
      "outputs": []
    },
    {
      "cell_type": "markdown",
      "metadata": {
        "id": "tc7QjSx_A1J2",
        "colab_type": "text"
      },
      "source": [
        "Train the model using the training sets"
      ]
    },
    {
      "cell_type": "code",
      "metadata": {
        "id": "LUri63GHA4F4",
        "colab_type": "code",
        "colab": {
          "base_uri": "https://localhost:8080/",
          "height": 35
        },
        "outputId": "c752f09f-597c-4646-a227-660a5613a06d"
      },
      "source": [
        "reg.fit(X_train, y_train)"
      ],
      "execution_count": null,
      "outputs": [
        {
          "output_type": "execute_result",
          "data": {
            "text/plain": [
              "LinearRegression(copy_X=True, fit_intercept=True, n_jobs=None, normalize=False)"
            ]
          },
          "metadata": {
            "tags": []
          },
          "execution_count": 61
        }
      ]
    },
    {
      "cell_type": "markdown",
      "metadata": {
        "id": "VAbCAGPcBEby",
        "colab_type": "text"
      },
      "source": [
        "Regression Coefficients"
      ]
    },
    {
      "cell_type": "code",
      "metadata": {
        "id": "Leopnyf3BGh2",
        "colab_type": "code",
        "colab": {}
      },
      "source": [
        "reg.coef_"
      ],
      "execution_count": null,
      "outputs": []
    },
    {
      "cell_type": "markdown",
      "metadata": {
        "id": "-k-svi-VBMZK",
        "colab_type": "text"
      },
      "source": [
        "Regression Score"
      ]
    },
    {
      "cell_type": "code",
      "metadata": {
        "id": "PzBc9_1rBOaJ",
        "colab_type": "code",
        "colab": {}
      },
      "source": [
        "Y_pred = reg.predict(X_test)\n",
        "reg.score(X_train,y_train)"
      ],
      "execution_count": null,
      "outputs": []
    },
    {
      "cell_type": "code",
      "metadata": {
        "id": "Bgy0MNNsBg02",
        "colab_type": "code",
        "colab": {}
      },
      "source": [
        "plt.style.use('fivethirtyeight') \n",
        "plt.scatter(reg.predict(X_train), reg.predict(X_train) - y_train, color = \"red\", s = 20, label = 'Train data') #Error in train data\n",
        "plt.scatter(reg.predict(X_test), reg.predict(X_test) - y_test, color = \"yellow\", s = 10, label = 'Test data') #Error in Test data\n",
        "plt.hlines(y = 0, xmin = 0, xmax = 5, linewidth = 2) #Residual Error Line\n",
        "plt.legend(loc = 'upper right') \n",
        "plt.title(\"Errors\") \n",
        "plt.show() "
      ],
      "execution_count": null,
      "outputs": []
    }
  ]
}